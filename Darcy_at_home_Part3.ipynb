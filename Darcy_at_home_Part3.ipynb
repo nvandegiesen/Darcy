{
 "cells": [
  {
   "cell_type": "markdown",
   "metadata": {},
   "source": [
    "# Darcy at home, Part 3: Analysis\n",
    "\n",
    "Welcome to the Darcy experiment, which is one of the practical exercises in CTB2410. In this notebook, you will find the tools to analyse your data and determine the two soil parameters we want to find, drainable porosity, $DP$ (-), and hydraulic conductivity, $K$ (m/s). Note that we will mainly use meters and seconds, which may result in some very small numbers as aquifers can have conductivities as low as a few meters per month. You may first simply want to run the Notebook as is to see what the idea is. Data from a a test have been included for this purpose.\n"
   ]
  },
  {
   "cell_type": "code",
   "execution_count": 1,
   "metadata": {},
   "outputs": [],
   "source": [
    "# This cell imports the necessary libraries\n",
    "import numpy as np\n",
    "import math as m\n",
    "import matplotlib.pyplot as plt\n",
    "%matplotlib inline\n",
    "from sklearn.metrics import mean_squared_error as mse\n",
    "import csv\n",
    "# import pandas as pd\n",
    "\n",
    "# This class helps printing in different fonts, may not work the same on all operating systems\n",
    "class font:\n",
    "    BOLD = '\\033[1m'\n",
    "    UNDERLINE = '\\033[4m'\n",
    "    END = '\\033[0m'\n",
    "    \n",
    "# print(font.BOLD+'Hello world!') # See http://ascii-table.com/ansi-escape-sequences.php"
   ]
  },
  {
   "cell_type": "markdown",
   "metadata": {},
   "source": [
    "## 3.0 Results Parts 1&2\n",
    "First, create a folder in which this Jupyter Notebook is stored together with all other data and the photos/screenshots of the experiment (see Parts 1 & 2). When finished, this folder needs to be Zipped and uploaded into Brightspace under the correct Assignment.\n",
    "\n",
    "To expedite grading the assignment, please include the main results from Parts1&2 here. This regards the following files:\n",
    "* 1234567_setup.jpg\n",
    "* 1234567_wet_mu.jpg\n",
    "* 1234567_dry_mu.jpg\n",
    "* 1234567_K0.jpg\n",
    "* 1234567_K1.jpg\n",
    "…\n",
    "* 1234567_Kend.jpg\n",
    "* 1234567_H.jpg (screenshot of 1234567_H.csv !)\n",
    "\n",
    "Instead of '1234567' the name should include your student number. The best way to include a picture is to edit the 'src' (double click on the pictures to edit) and replace the present file names with the correct ones. Running the cell again will show your picture(s). The present pictures serve as example and will then no longer be shown."
   ]
  },
  {
   "cell_type": "markdown",
   "metadata": {},
   "source": [
    "#### 1234567_setup.jpg, 1234567_wet_mu.jpg, 1234567_dry_mu.jpg\n",
    "<img src=\"1234567_setup.jpg\" alt=\"Kn\" style=\"width: 25%;\">\n",
    "<img src=\"1234567_wet_mu.jpg\" alt=\"Kn\" style=\"width: 25%;\">\n",
    "<img src=\"1234567_dry_mu.jpg\" alt=\"Kn\" style=\"width: 25%;\">"
   ]
  },
  {
   "cell_type": "markdown",
   "metadata": {},
   "source": [
    "#### 1234567_K0.jpg, 1234567_K1.jpg, ..., 1234567_Kend.jpg\n",
    "<img src=\"1234567_K4.jpg\" alt=\"H\" style=\"width: 25%;\">"
   ]
  },
  {
   "cell_type": "markdown",
   "metadata": {},
   "source": [
    "#### 1234567_H.jpg\n",
    "<img src=\"1234567_H.jpg\" alt=\"H\" style=\"width: 25%;\">"
   ]
  },
  {
   "cell_type": "markdown",
   "metadata": {},
   "source": [
    "## 3.1 Analysis drainable porosity\n",
    "\n",
    "Enter the measured values by replacing the given values with the ones you measured. Running the cell should give you the wet drainable porosity and the total porosity. In reality, the real value will be in between these two values."
   ]
  },
  {
   "cell_type": "code",
   "execution_count": 2,
   "metadata": {},
   "outputs": [
    {
     "name": "stdout",
     "output_type": "stream",
     "text": [
      "The wet drainable porosity, mu_wet, equals\u001b[1m\u001b[4m 0.125 \u001b[m(-)\n",
      "The total porosity, mu_dry, equals\u001b[1m\u001b[4m 0.352 \u001b[m(-)\n"
     ]
    }
   ],
   "source": [
    "# Enter the correct values you measured. See Part 2 for the exact meaning of these parameters. \n",
    "# You can work with millimeters or centimeters here, as long as you are consistent.\n",
    "\n",
    "# Wet experiment\n",
    "L_wet = 40.          # Height of wet soil column (mm)\n",
    "mu_wet1 = 73        # Height of water in measuring cylinder before experiment (mm)\n",
    "mu_wet2 = 68        # Height of water in measuring cylinder after experiment (mm)\n",
    "\n",
    "# Dry experiment\n",
    "L_dry = 54.          # Height of dry soil column (mm)\n",
    "mu_dry1 = 49        # Height of water after glass poured into empty measuring cylinder (mm)\n",
    "mu_dry2 = 84        # Height of water after glass poured into measuring cylinder with dry soil (mm)\n",
    "\n",
    "# Calculate drainable porositie and report\n",
    "# Wet\n",
    "DP_wet = (mu_wet1 - mu_wet2)/L_wet\n",
    "print('The wet drainable porosity, mu_wet, equals'\n",
    "              +'\\033[1m'+'\\033[4m',f\"{DP_wet:5.3}\", '\\033[m' '(-)')\n",
    "\n",
    "# Total\n",
    "DP_dry = (L_dry + mu_dry1 - mu_dry2) / L_dry\n",
    "\n",
    "print('The total porosity, mu_dry, equals'\n",
    "              +'\\033[1m'+'\\033[4m',f\"{DP_dry:5.3}\", '\\033[m' '(-)')\n"
   ]
  },
  {
   "cell_type": "markdown",
   "metadata": {},
   "source": [
    "## 3.2 Analysis hydraulic conductivity test\n"
   ]
  },
  {
   "attachments": {},
   "cell_type": "markdown",
   "metadata": {},
   "source": [
    "### 3.2.1 Set-up differential equation\n",
    "We start with Darcy's Law:\n",
    "\n",
    "\\begin{equation}Q(t) = A K \\frac{\\Delta \\Psi(t)}{L}\\end{equation} \n",
    "In which:\n",
    "\n",
    "\\begin{align}\n",
    "\\ Q(t) &: Flow\\ rate\\ (m^{3} s^{-1})\\ \\\\\n",
    "\\ A &: Cross-section\\ column\\ (m^{2})\\ \\\\\n",
    "\\ K &: Hydraulic\\ conductivity\\ (m s^{-1}\\,\\ to\\ be\\ determined)\\ \\\\\n",
    "\\ \\Delta \\Psi(t) &: Potential\\ drop\\ over\\ sand\\ column\\ (m)\\ \\\\\n",
    "\\ L &: Length\\ of\\ sand\\ column\\ (m)\\ \\\\\n",
    "\\end{align}\n",
    "\n",
    "Because the profile is straight, we can divide left and right by $A$, giving us $\\frac{Q(t)}{A}=H(t)$. The sketch below shows the set-up. By our definition, $H(t)=0$ when the water level has just reached the top of the sand column, which happens at $t_{end}$, or $H(t_{end})=0$. We also define $H(0)=H0$. Now derive the differential equation for $H(t)$:\n",
    "\\begin{equation} \\frac{dH(t)}{dt}=f(H,t)\\end{equation} \n"
   ]
  },
  {
   "cell_type": "markdown",
   "metadata": {},
   "source": [
    "<img src=\"water.jpg\" alt=\"water\" style=\"width: 80%;\">\n",
    "In the cell below enter the correct expression, $f(H,t)$, for the derivative of the water level, $H(t)$, above the sand."
   ]
  },
  {
   "cell_type": "code",
   "execution_count": 3,
   "metadata": {},
   "outputs": [],
   "source": [
    "# This function is the right hand side of the differential equation, f(H,t) above\n",
    "# HINT: The correct right-hand side is likely to contain H\n",
    "def diffeq(H,t): #Don't change these input arguments\n",
    "\n",
    "    # Write here the expression for the differential equation dH/dt:\n",
    "    \n",
    "    #   Replace \"K*(-0.000400038023*(t**2)+0.05772243346*t-3.39277566540)\" \n",
    "    #   with the correct right-hand side of the differential equation\n",
    "    dHdt = K*(-0.000400038023*(t**2)+0.05772243346*t-3.39277566540)\n",
    "\n",
    "# NOTE: The above equation is based on a fitted 3rd-order polynomial and the correct K for this data set.\n",
    "#       As such, it gives very good results, which allows for checking the data and the code but it is \n",
    "#       absolutely not based on any physics, so needs to be replaced by a physically correct one to obtain \n",
    "#       good results for any data set.\n",
    "    \n",
    "    return dHdt"
   ]
  },
  {
   "cell_type": "markdown",
   "metadata": {},
   "source": [
    "### 3.2.2 Enter experimental parameters\n",
    "In the following cell, provide the initial water height, $H0$, and the height of the sand column, $L$, both in meters, and the duration, $t_{end}$, of the experiment in seconds, the diameter in meters, or cross-section in meters-squared, of the bottle, and the drainable porosity you found earlier. You can also adjust your first estimate of the hydraulic conductivity, $K$, in m/s (see https://en.wikipedia.org/wiki/Hydraulic_conductivity#Ranges_of_values_for_natural_materials for typical values)."
   ]
  },
  {
   "cell_type": "code",
   "execution_count": 4,
   "metadata": {},
   "outputs": [],
   "source": [
    "# Enter fixed experimental parameters\n",
    "H0 = 0.085     # Initial water height in meters at t=0s\n",
    "L = 0.04      # Height of sand column in meters\n",
    "tend = 85.    # Moment when water disappeared in sand surface in seconds after start experiment\n",
    "D = 0.081      # Diameter of bottle in meters\n",
    "CS = np.pi*((D/2)**2) # Cross-section of bottle, assuming it is circular\n",
    "# CS = 0.0078  # If cross-section is not circular, un-comment this line and fill in correct cross-section in meters squared\n",
    "DP_wet = 0.125    # Wet drainable porosity as determined by experiment and analysis above, unitless \n",
    "DP_dry = 0.388    # Total porosity as determined by experiment and analysis above, unitless  "
   ]
  },
  {
   "cell_type": "markdown",
   "metadata": {},
   "source": [
    "### 3.2.3 Solve differential equation numerically\n",
    "We may be able to solve the differential equation analytically but a minus sign is easily lost. The code below solves the differential equation that you defined above with the experimental parameters you provided. The algorithm uses a 4th order Runge-Kutta scheme. You can adjust the code, for example by making the time step smaller or larger but, in general, it should work if you have entered reasonable values. The time after which the water level has reached the top of the sand column is printed for your convenience as this is an easy and quick check to see if your $K$ value is more or less correct. You should be able to quickly iterate to obtain the corrct order of magnitude of $K$."
   ]
  },
  {
   "cell_type": "code",
   "execution_count": 5,
   "metadata": {},
   "outputs": [],
   "source": [
    "# Enter estimate for K (and iterate)\n",
    "# Correct value for trial dataset K = 0.000526 m/s\n",
    "K = 0.001    # First estimate of hydraulic conductivity in m/s"
   ]
  },
  {
   "cell_type": "code",
   "execution_count": 6,
   "metadata": {},
   "outputs": [
    {
     "name": "stdout",
     "output_type": "stream",
     "text": [
      "The modeled water level, H, reached the surface of the sand column after\u001b[1m\u001b[4m   32.8 \u001b[0mseconds.\n",
      "The measured water level, Hex, reached the surface of the sand column after\u001b[1m\u001b[4m 85.0 \u001b[0mseconds.\n"
     ]
    }
   ],
   "source": [
    "# Set up paramaters needed to run Runge-Kutta scheme\n",
    "first = True                                 # Switch used to print first time water level is below sand surface\n",
    "\n",
    "t_end = tend+60                              # Time at end of experiment in seconds (integer), plus a minute extra\n",
    "dt = 0.1                                     # Time step for Runge-Kutta integration in seconds (integer)\n",
    "time = np.linspace(0,t_end,int(t_end/dt)+1)  # Array with points in time at which function needs to be calculated\n",
    "ns = len(time)                               # Number of time steps \n",
    "\n",
    "H = np.zeros(ns)      # Array that will store water heights, H, in meters\n",
    "H[0] = H0             # Initial condition, height of water above sand column, H0, in meters\n",
    "\n",
    "# Run Runge-Kutta integration\n",
    "\n",
    "for n in range(ns-1):     # Run for each time step until t_end\n",
    "\n",
    "    t = time[n]           # Variable storing time\n",
    "    \n",
    "    # Runge-Kutta coefficients\n",
    "    k1 = diffeq(H[n],t)\n",
    "    k2 = diffeq(H[n]+dt*k1/2,t+dt/2)\n",
    "    k3 = diffeq(H[n]+dt*k2/2,t+dt/2)\n",
    "    k4 = diffeq(H[n]+dt*k3,t+dt)\n",
    "    \n",
    "    # Extrapolate to next time step\n",
    "    H[n+1] = H[n] + dt*(k1 + 2*k2 + 2*k3 +k4)/6\n",
    "    \n",
    "    # Check to see if water level is lower than surface sand column (=end of experiment)\n",
    "    if (H[n+1] < 0) and first == True:\n",
    "        print('The modeled water level, H, reached the surface of the sand column after'\n",
    "              +'\\033[1m'+'\\033[4m',f\"{time[n]:6.3}\", '\\033[0m'+'seconds.')\n",
    "        print('The measured water level, Hex, reached the surface of the sand column after'\n",
    "              +'\\033[1m'+'\\033[4m',tend, '\\033[0m'+'seconds.')   \n",
    "              # Print first time level H is lower than L (at L, H=0 by our defintion)\n",
    "        first = False       # Turn off switch\n",
    "    elif (time[n]>=t_end-dt) and first == True:\n",
    "        print('The modeled water level, H, did not reach the surface of the sand column within 60 s '+'\\n' \n",
    "              'after the experiment reached the surface of the sand column.')\n",
    "        "
   ]
  },
  {
   "cell_type": "markdown",
   "metadata": {},
   "source": [
    "### Coarse approximation of K\n",
    "You should have a good idea about when the water level reached the top of the sand column. Adjust K above and run cells until the calculated end time is close to the measured end time. \n",
    "\n",
    "\n",
    "### Plot results\n",
    "For a finer determination of $K$, look at the complete drawdown. Run the cell below to plot the results and calculate the Root Mean Square Error (RMSE) of the model with respect to the measurements. Try to find a $K$ value (two significant digits) that minimizes the RMSE.\n",
    "\n",
    "If you like coding, you could write a Newton-Raphson routine to find the minimum automatically.  "
   ]
  },
  {
   "cell_type": "code",
   "execution_count": 7,
   "metadata": {},
   "outputs": [
    {
     "name": "stdout",
     "output_type": "stream",
     "text": [
      "The Root-Mean-Square Error is\u001b[1m\u001b[4m 4.524E-02 \u001b[0mmeters.\n",
      "\n"
     ]
    },
    {
     "data": {
      "image/png": "[encoded data removed]",
      "text/plain": [
       "<Figure size 432x288 with 1 Axes>"
      ]
     },
     "metadata": {
      "needs_background": "light"
     },
     "output_type": "display_data"
    }
   ],
   "source": [
    "######################################################################\n",
    "# PLOT RESULTS                                                       #\n",
    "######################################################################\n",
    "\n",
    "# Plot results from calculations\n",
    "plt.plot(time,H,label='Modeled H (m)')\n",
    "\n",
    "#Plot results from experiment\n",
    "with open('1234567_data.csv') as csvfile:  # Open data file, adjust name & path as needed!!\n",
    "                                        # In your case it should be name it #######_H.csv, \n",
    "                                        # with your student number instead of ‘#######’.\n",
    "\n",
    "    readCSV = csv.reader(csvfile, delimiter=',')      \n",
    "    tex = []      # Array for experiment times\n",
    "    Hex = []      # Array for measure water height, H (m)\n",
    "    for row in readCSV:\n",
    "        te = row[0]          # Read time t (ASCII)\n",
    "        He = row[1]          # Read water height H (ASCII)\n",
    "        tex.append(float(te))      # Convert to number and store in array\n",
    "        Hex.append(float(He))      # Convert to number and store in array\n",
    "\n",
    "plt.plot(tex,Hex, 'o', label='Measurements')\n",
    "\n",
    "# Plot horizontal line at H=0\n",
    "plt.plot((0,t_end),(0,0), 'k', linestyle=':')\n",
    "plt.text(0, 0, 'Surface sand column', fontsize=10)\n",
    "\n",
    "# Plot vertical line at t_end\n",
    "plt.plot((tend,tend),(H.min(), H.max()*0.8), 'k', linestyle=':')\n",
    "\n",
    "# Plot analytical results\n",
    "# If you happen to have an analytical solution you could plot it as well, just to check\n",
    "\n",
    "\n",
    "# Plot labels, title, legend\n",
    "plt.xlabel('time (s)')\n",
    "plt.ylabel('water height, H (m)')\n",
    "plt.legend(loc='best')\n",
    "plt.title('Measured and modeled water heights')\n",
    "\n",
    "######################################################################\n",
    "# CALCULATE ROOT-MEAN-SQUARE ERROR                                   #\n",
    "######################################################################\n",
    "\n",
    "# Calculate error\n",
    "Hm = []              # Array to hold calculated water heights at experimental time\n",
    "\n",
    "for mt in tex:           # For all measurement points\n",
    "    # Identify calculated points associated with data points\n",
    "    # Note: Due to numerical errors, one cannot automatically assume any measurement time can be found in model time. \n",
    "    #       There are many calculated points separated at dt (default 0.1 s) \n",
    "    #       so finding the first point in model time larger than, or equal to, the measurement time is good enough\n",
    "    \n",
    "    ind=np.where(time>=mt)   # Indices for all entries larger than, or equal to, experiment time\n",
    "    a = ind[0][0]           # Lowest index larger than, or equal to, experiment time\n",
    "    Hm.append(H[a])         # Modeled water height at experimental time\n",
    "\n",
    "# Calculate RMSE\n",
    "# Often, you would give equal weights to all measurements but you may want to give double or triple weights\n",
    "# to the first measurement and the last measurement because these should be better\n",
    "weights = np.ones(len(Hm))     # Equal weights of 1 to all errors\n",
    "weights[0] = 3                 # Adjust weight for first measurement (tripled default)\n",
    "weights[-1] = 2                # Adjust weight for last measurement (doubled default)\n",
    "\n",
    "error = m.sqrt(mse(Hex,Hm,weights))  # Calculates root-mean-square error between measured, Hm, and true value, Hex\n",
    "\n",
    "# Report RMSE and K\n",
    "print('The Root-Mean-Square Error is'+'\\033[1m'+'\\033[4m',\n",
    "      f\"{error:.3E}\", '\\033[0m'+'meters.')\n",
    "scale = abs(H.max())+abs(H.min())     # Parameter for placing text\n",
    "under = H.min()                       # Parameter for placing text\n",
    "plt.text(0, under+scale/6,'RMSE=' f\"{error:.2E}\" 'm', fontsize=10, )\n",
    "plt.text(0, under+scale/10,'K=' f\"{K:.2E}\" 'm/s', fontsize=10, )\n",
    "plt.text(tend, under, 'End experiment', fontsize=10, rotation=270)\n",
    "\n",
    "print() # Suppresses gratuitous output"
   ]
  },
  {
   "cell_type": "markdown",
   "metadata": {},
   "source": [
    "#### Final questions\n",
    "The figure above summarizes the results of this experiment. Please add some comments here on:\n",
    "1. How reasonable are the porosity results compared to Wikipedia https://en.wikipedia.org/wiki/Porosity?\n",
    "\n",
    "\n",
    "2. How do K results compare https://en.wikipedia.org/wiki/Hydraulic_conductivity#Ranges_of_values_for_natural_materials?\n",
    "\n",
    "\n",
    "3. How accurate do you think the measurements are (differentiate) and where things may be improved?\n",
    "\n",
    "\n",
    "4. Anything particular about the sand you used or other observations you want to share?\n",
    "\n",
    "\n",
    "Save this Jupyter Notebook and **make a copy as pdf** before zipping the complete directory. The pdf serves easy checking of the main content. The other files (pictures, Notebook, csv, xlc) serve to check details in case of unclarities. Probably the easiest way to make a pdf is to go to the 'File' menu of Jupyter, then select 'Print Preview', then right-click on the print preview that opens up, and choose to 'Save to pdf'. There is also a 'Download as PDF via LaTeX' option, but this requires additional software installation. Make sure all filenames, including that of Notebook and pdf start with your student number.\n",
    "\n",
    "#### Thanks for doing this at home!"
   ]
  },
  {
   "cell_type": "code",
   "execution_count": null,
   "metadata": {},
   "outputs": [],
   "source": []
  }
 ],
 "metadata": {
  "kernelspec": {
   "display_name": "Python 3",
   "language": "python",
   "name": "python3"
  },
  "language_info": {
   "codemirror_mode": {
    "name": "ipython",
    "version": 3
   },
   "file_extension": ".py",
   "mimetype": "text/x-python",
   "name": "python",
   "nbconvert_exporter": "python",
   "pygments_lexer": "ipython3",
   "version": "3.7.6"
  }
 },
 "nbformat": 4,
 "nbformat_minor": 4
}
