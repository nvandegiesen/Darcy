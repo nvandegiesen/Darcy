{
 "cells": [
  {
   "cell_type": "markdown",
   "metadata": {},
   "source": [
    "# Darcy at home, Part 3: Analysis\n",
    "\n",
    "Welcome to the Darcy experiment, which is one of the practical exercises in CTB2410. In this notebook, you will find the tools to analyse your data and determine the two soil parameters we want to find, drainable porosity, $DP$ (-), and hydraulic conductivity, $K$ (m/s). Note that we will mainly use meters and seconds, which may result in some very small numbers as aquifers can have conductivities as low as a few meters per month. You may first simply want to run the Notebook as is to see what the idea is. Data from a a test have been included for this purpose.\n"
   ]
  },
  {
   "cell_type": "code",
   "execution_count": 1,
   "metadata": {},
   "outputs": [],
   "source": [
    "# This cell imports the necessary libraries\n",
    "import numpy as np\n",
    "import math as m\n",
    "import matplotlib.pyplot as plt\n",
    "%matplotlib inline\n",
    "from sklearn.metrics import mean_squared_error as mse\n",
    "import csv\n",
    "# import pandas as pd\n",
    "\n",
    "# This class helps printing in different fonts, may not work the same on all operating systems\n",
    "class font:\n",
    "    BOLD = '\\033[1m'\n",
    "    UNDERLINE = '\\033[4m'\n",
    "    END = '\\033[0m'\n",
    "    \n",
    "# print(font.BOLD+'Hello world!') # See http://ascii-table.com/ansi-escape-sequences.php"
   ]
  },
  {
   "cell_type": "markdown",
   "metadata": {},
   "source": [
    "## 3.0 Results Parts 1&2\n",
    "First, create a folder in which this Jupyter Notebook is stored together with all other data and the photos/screenshots of the experiment (see Parts 1 & 2). When finished, this folder needs to be Zipped and uploaded into Brightspace under the correct Assignment.\n",
    "\n",
    "To expedite grading the assignment, please include the main results from Parts1&2 here. This regards the following files:\n",
    "* 1234567_setup.jpg\n",
    "* 1234567_wet_mu.jpg\n",
    "* 1234567_dry_mu.jpg\n",
    "* 1234567_K0.jpg\n",
    "* 1234567_K1.jpg\n",
    "…\n",
    "* 1234567_Kend.jpg\n",
    "* 1234567_H.jpg (screenshot of 1234567_H.csv !)\n",
    "\n",
    "Instead of '1234567' the name should include your student number. The best way to include a picture is to edit the 'src' (double click on the pictures to edit) and replace the present file names with the correct ones. Running the cell again will show your picture(s). The present pictures serve as example and will then no longer be shown."
   ]
  },
  {
   "cell_type": "markdown",
   "metadata": {},
   "source": [
    "#### 1234567_setup.jpg, 1234567_wet_mu.jpg, 1234567_dry_mu.jpg\n",
    "<img src=\"1234567_setup.jpg\" alt=\"Kn\" style=\"width: 25%;\">\n",
    "<img src=\"1234567_wet_mu.jpg\" alt=\"Kn\" style=\"width: 25%;\">\n",
    "<img src=\"1234567_dry_mu.jpg\" alt=\"Kn\" style=\"width: 25%;\">"
   ]
  },
  {
   "cell_type": "markdown",
   "metadata": {},
   "source": [
    "#### 1234567_K0.jpg, 1234567_K1.jpg, ..., 1234567_Kend.jpg\n",
    "<img src=\"1234567_K4.jpg\" alt=\"H\" style=\"width: 25%;\">"
   ]
  },
  {
   "cell_type": "markdown",
   "metadata": {},
   "source": [
    "#### 1234567_H.jpg\n",
    "<img src=\"1234567_H.jpg\" alt=\"H\" style=\"width: 25%;\">"
   ]
  },
  {
   "cell_type": "markdown",
   "metadata": {},
   "source": [
    "## 3.1 Analysis drainable porosity\n",
    "\n",
    "Enter the measured values by replacing the given values with the ones you measured. Running the cell should give you the wet drainable porosity and the total porosity. In reality, the real value will be in between these two values."
   ]
  },
  {
   "cell_type": "code",
   "execution_count": 2,
   "metadata": {},
   "outputs": [
    {
     "name": "stdout",
     "output_type": "stream",
     "text": [
      "The wet drainable porosity, mu_wet, equals\u001b[1m\u001b[4m 0.125 \u001b[m(-)\n",
      "The total porosity, mu_dry, equals\u001b[1m\u001b[4m 0.352 \u001b[m(-)\n"
     ]
    }
   ],
   "source": [
    "# Enter the correct values you measured. See Part 2 for the exact meaning of these parameters. \n",
    "# You can work with millimeters or centimeters here, as long as you are consistent.\n",
    "\n",
    "# Wet experiment\n",
    "L_wet = 40.          # Height of wet soil column (mm)\n",
    "mu_wet1 = 73        # Height of water in measuring cylinder before experiment (mm)\n",
    "mu_wet2 = 68        # Height of water in measuring cylinder after experiment (mm)\n",
    "\n",
    "# Dry experiment\n",
    "L_dry = 54.          # Height of dry soil column (mm)\n",
    "mu_dry1 = 49        # Height of water after glass poured into empty measuring cylinder (mm)\n",
    "mu_dry2 = 84        # Height of water after glass poured into measuring cylinder with dry soil (mm)\n",
    "\n",
    "# Calculate drainable porositie and report\n",
    "# Wet\n",
    "DP_wet = (mu_wet1 - mu_wet2)/L_wet\n",
    "print('The wet drainable porosity, mu_wet, equals'\n",
    "              +'\\033[1m'+'\\033[4m',f\"{DP_wet:5.3}\", '\\033[m' '(-)')\n",
    "\n",
    "# Total\n",
    "DP_dry = (L_dry + mu_dry1 - mu_dry2) / L_dry\n",
    "\n",
    "print('The total porosity, mu_dry, equals'\n",
    "              +'\\033[1m'+'\\033[4m',f\"{DP_dry:5.3}\", '\\033[m' '(-)')\n"
   ]
  },
  {
   "cell_type": "markdown",
   "metadata": {},
   "source": [
    "## 3.2 Analysis hydraulic conductivity test\n"
   ]
  },
 {
   "cell_type": "markdown",
   "metadata": {},
   "source": [
    "#### Set-Up\n",
    "<img src=\"water.jpg\" alt=\"Water\" style=\"width: 25%;\">"
   ]
  },   },
   "cell_type": "markdown",
   "metadata": {},
   "source": [
    "### 3.2.1 Set-up differential equation\n",
    "We start with Darcy's Law:\n",
    "\n",
    "\\begin{equation}Q(t) = A K \\frac{\\Delta \\Psi(t)}{L}\\end{equation} \n",
    "In which:\n",
    "\n",
    "\\begin{align}\n",
    "\\ Q(t) &: Flow\\ rate\\ (m^{3} s^{-1})\\ \\\\\n",
    "\\ A &: Cross-section\\ column\\ (m^{2})\\ \\\\\n",
    "\\ K &: Hydraulic\\ conductivity\\ (m s^{-1}\\,\\ to\\ be\\ determined)\\ \\\\\n",
    "\\ \\Delta \\Psi(t) &: Potential\\ drop\\ over\\ sand\\ column\\ (m)\\ \\\\\n",
    "\\ L &: Length\\ of\\ sand\\ column\\ (m)\\ \\\\\n",
    "\\end{align}\n",
    "\n",
    "Because the profile is straight, we can divide left and right by $A$, giving us $\\frac{Q(t)}{A}=H(t)$. The sketch below shows the set-up. By our definition, $H(t)=0$ when the water level has just reached the top of the sand column, which happens at $t_{end}$, or $H(t_{end})=0$. We also define $H(0)=H0$. Now derive the differential equation for $H(t)$:\n",
    "\\begin{equation} \\frac{dH(t)}{dt}=f(H,t)\\end{equation} \n",
    "\n",
    "![water.jpg](attachment:water.jpg) \\\n",
    "\\\n",
    "In the cell below enter the correct expression, $f(H,t)$, for the derivative of the water level, $H(t)$, above the sand."
   ]
  },
  {
   "cell_type": "code",
   "execution_count": 3,
   "metadata": {},
   "outputs": [],
   "source": [
    "# This function is the right hand side of the differential equation, f(H,t) above\n",
    "# HINT: The correct right-hand side is likely to contain H\n",
    "def diffeq(H,t): #Don't change these input arguments\n",
    "\n",
    "    # Write here the expression for the differential equation dH/dt:\n",
    "    \n",
    "    #   Replace \"K*(-0.000400038023*(t**2)+0.05772243346*t-3.39277566540)\" \n",
    "    #   with the correct right-hand side of the differential equation\n",
    "    dHdt = K*(-0.000400038023*(t**2)+0.05772243346*t-3.39277566540)\n",
    "\n",
    "# NOTE: The above equation is based on a fitted 3rd-order polynomial and the correct K for this data set.\n",
    "#       As such, it gives very good results, which allows for checking the data and the code but it is \n",
    "#       absolutely not based on any physics, so needs to be replaced by a physically correct one to obtain \n",
    "#       good results for any data set.\n",
    "    \n",
    "    return dHdt"
   ]
  },
  {
   "cell_type": "markdown",
   "metadata": {},
   "source": [
    "### 3.2.2 Enter experimental parameters\n",
    "In the following cell, provide the initial water height, $H0$, and the height of the sand column, $L$, both in meters, and the duration, $t_{end}$, of the experiment in seconds, the diameter in meters, or cross-section in meters-squared, of the bottle, and the drainable porosity you found earlier. You can also adjust your first estimate of the hydraulic conductivity, $K$, in m/s (see https://en.wikipedia.org/wiki/Hydraulic_conductivity#Ranges_of_values_for_natural_materials for typical values)."
   ]
  },
  {
   "cell_type": "code",
   "execution_count": 4,
   "metadata": {},
   "outputs": [],
   "source": [
    "# Enter fixed experimental parameters\n",
    "H0 = 0.085     # Initial water height in meters at t=0s\n",
    "L = 0.04      # Height of sand column in meters\n",
    "tend = 85.    # Moment when water disappeared in sand surface in seconds after start experiment\n",
    "D = 0.081      # Diameter of bottle in meters\n",
    "CS = np.pi*((D/2)**2) # Cross-section of bottle, assuming it is circular\n",
    "# CS = 0.0078  # If cross-section is not circular, un-comment this line and fill in correct cross-section in meters squared\n",
    "DP_wet = 0.125    # Wet drainable porosity as determined by experiment and analysis above, unitless \n",
    "DP_dry = 0.388    # Total porosity as determined by experiment and analysis above, unitless  "
   ]
  },
  {
   "cell_type": "markdown",
   "metadata": {},
   "source": [
    "### 3.2.3 Solve differential equation numerically\n",
    "We may be able to solve the differential equation analytically but a minus sign is easily lost. The code below solves the differential equation that you defined above with the experimental parameters you provided. The algorithm uses a 4th order Runge-Kutta scheme. You can adjust the code, for example by making the time step smaller or larger but, in general, it should work if you have entered reasonable values. The time after which the water level has reached the top of the sand column is printed for your convenience as this is an easy and quick check to see if your $K$ value is more or less correct. You should be able to quickly iterate to obtain the corrct order of magnitude of $K$."
   ]
  },
  {
   "cell_type": "code",
   "execution_count": 5,
   "metadata": {},
   "outputs": [],
   "source": [
    "# Enter estimate for K (and iterate)\n",
    "# Correct value for trial dataset K = 0.000526 m/s\n",
    "K = 0.001    # First estimate of hydraulic conductivity in m/s"
   ]
  },
  {
   "cell_type": "code",
   "execution_count": 6,
   "metadata": {},
   "outputs": [
    {
     "name": "stdout",
     "output_type": "stream",
     "text": [
      "The modeled water level, H, reached the surface of the sand column after\u001b[1m\u001b[4m   32.8 \u001b[0mseconds.\n",
      "The measured water level, Hex, reached the surface of the sand column after\u001b[1m\u001b[4m 85.0 \u001b[0mseconds.\n"
     ]
    }
   ],
   "source": [
    "# Set up paramaters needed to run Runge-Kutta scheme\n",
    "first = True                                 # Switch used to print first time water level is below sand surface\n",
    "\n",
    "t_end = tend+60                              # Time at end of experiment in seconds (integer), plus a minute extra\n",
    "dt = 0.1                                     # Time step for Runge-Kutta integration in seconds (integer)\n",
    "time = np.linspace(0,t_end,int(t_end/dt)+1)  # Array with points in time at which function needs to be calculated\n",
    "ns = len(time)                               # Number of time steps \n",
    "\n",
    "H = np.zeros(ns)      # Array that will store water heights, H, in meters\n",
    "H[0] = H0             # Initial condition, height of water above sand column, H0, in meters\n",
    "\n",
    "# Run Runge-Kutta integration\n",
    "\n",
    "for n in range(ns-1):     # Run for each time step until t_end\n",
    "\n",
    "    t = time[n]           # Variable storing time\n",
    "    \n",
    "    # Runge-Kutta coefficients\n",
    "    k1 = diffeq(H[n],t)\n",
    "    k2 = diffeq(H[n]+dt*k1/2,t+dt/2)\n",
    "    k3 = diffeq(H[n]+dt*k2/2,t+dt/2)\n",
    "    k4 = diffeq(H[n]+dt*k3,t+dt)\n",
    "    \n",
    "    # Extrapolate to next time step\n",
    "    H[n+1] = H[n] + dt*(k1 + 2*k2 + 2*k3 +k4)/6\n",
    "    \n",
    "    # Check to see if water level is lower than surface sand column (=end of experiment)\n",
    "    if (H[n+1] < 0) and first == True:\n",
    "        print('The modeled water level, H, reached the surface of the sand column after'\n",
    "              +'\\033[1m'+'\\033[4m',f\"{time[n]:6.3}\", '\\033[0m'+'seconds.')\n",
    "        print('The measured water level, Hex, reached the surface of the sand column after'\n",
    "              +'\\033[1m'+'\\033[4m',tend, '\\033[0m'+'seconds.')   \n",
    "              # Print first time level H is lower than L (at L, H=0 by our defintion)\n",
    "        first = False       # Turn off switch\n",
    "    elif (time[n]>=t_end-dt) and first == True:\n",
    "        print('The modeled water level, H, did not reach the surface of the sand column within 60 s '+'\\n' \n",
    "              'after the experiment reached the surface of the sand column.')\n",
    "        "
   ]
  },
  {
   "cell_type": "markdown",
   "metadata": {},
   "source": [
    "### Coarse approximation of K\n",
    "You should have a good idea about when the water level reached the top of the sand column. Adjust K above and run cells until the calculated end time is close to the measured end time. \n",
    "\n",
    "\n",
    "### Plot results\n",
    "For a finer determination of $K$, look at the complete drawdown. Run the cell below to plot the results and calculate the Root Mean Square Error (RMSE) of the model with respect to the measurements. Try to find a $K$ value (two significant digits) that minimizes the RMSE.\n",
    "\n",
    "If you like coding, you could write a Newton-Raphson routine to find the minimum automatically.  "
   ]
  },
  {
   "cell_type": "code",
   "execution_count": 7,
   "metadata": {},
   "outputs": [
    {
     "name": "stdout",
     "output_type": "stream",
     "text": [
      "The Root-Mean-Square Error is\u001b[1m\u001b[4m 4.524E-02 \u001b[0mmeters.\n",
      "\n"
     ]
    },
    {
     "data": {
      "image/png": "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\n",
      "text/plain": [
       "<Figure size 432x288 with 1 Axes>"
      ]
     },
     "metadata": {
      "needs_background": "light"
     },
     "output_type": "display_data"
    }
   ],
   "source": [
    "######################################################################\n",
    "# PLOT RESULTS                                                       #\n",
    "######################################################################\n",
    "\n",
    "# Plot results from calculations\n",
    "plt.plot(time,H,label='Modeled H (m)')\n",
    "\n",
    "#Plot results from experiment\n",
    "with open('1234567_data.csv') as csvfile:  # Open data file, adjust name & path as needed!!\n",
    "                                        # In your case it should be name it #######_H.csv, \n",
    "                                        # with your student number instead of ‘#######’.\n",
    "\n",
    "    readCSV = csv.reader(csvfile, delimiter=',')      \n",
    "    tex = []      # Array for experiment times\n",
    "    Hex = []      # Array for measure water height, H (m)\n",
    "    for row in readCSV:\n",
    "        te = row[0]          # Read time t (ASCII)\n",
    "        He = row[1]          # Read water height H (ASCII)\n",
    "        tex.append(float(te))      # Convert to number and store in array\n",
    "        Hex.append(float(He))      # Convert to number and store in array\n",
    "\n",
    "plt.plot(tex,Hex, 'o', label='Measurements')\n",
    "\n",
    "# Plot horizontal line at H=0\n",
    "plt.plot((0,t_end),(0,0), 'k', linestyle=':')\n",
    "plt.text(0, 0, 'Surface sand column', fontsize=10)\n",
    "\n",
    "# Plot vertical line at t_end\n",
    "plt.plot((tend,tend),(H.min(), H.max()*0.8), 'k', linestyle=':')\n",
    "\n",
    "# Plot analytical results\n",
    "# If you happen to have an analytical solution you could plot it as well, just to check\n",
    "\n",
    "\n",
    "# Plot labels, title, legend\n",
    "plt.xlabel('time (s)')\n",
    "plt.ylabel('water height, H (m)')\n",
    "plt.legend(loc='best')\n",
    "plt.title('Measured and modeled water heights')\n",
    "\n",
    "######################################################################\n",
    "# CALCULATE ROOT-MEAN-SQUARE ERROR                                   #\n",
    "######################################################################\n",
    "\n",
    "# Calculate error\n",
    "Hm = []              # Array to hold calculated water heights at experimental time\n",
    "\n",
    "for mt in tex:           # For all measurement points\n",
    "    # Identify calculated points associated with data points\n",
    "    # Note: Due to numerical errors, one cannot automatically assume any measurement time can be found in model time. \n",
    "    #       There are many calculated points separated at dt (default 0.1 s) \n",
    "    #       so finding the first point in model time larger than, or equal to, the measurement time is good enough\n",
    "    \n",
    "    ind=np.where(time>=mt)   # Indices for all entries larger than, or equal to, experiment time\n",
    "    a = ind[0][0]           # Lowest index larger than, or equal to, experiment time\n",
    "    Hm.append(H[a])         # Modeled water height at experimental time\n",
    "\n",
    "# Calculate RMSE\n",
    "# Often, you would give equal weights to all measurements but you may want to give double or triple weights\n",
    "# to the first measurement and the last measurement because these should be better\n",
    "weights = np.ones(len(Hm))     # Equal weights of 1 to all errors\n",
    "weights[0] = 3                 # Adjust weight for first measurement (tripled default)\n",
    "weights[-1] = 2                # Adjust weight for last measurement (doubled default)\n",
    "\n",
    "error = m.sqrt(mse(Hex,Hm,weights))  # Calculates root-mean-square error between measured, Hm, and true value, Hex\n",
    "\n",
    "# Report RMSE and K\n",
    "print('The Root-Mean-Square Error is'+'\\033[1m'+'\\033[4m',\n",
    "      f\"{error:.3E}\", '\\033[0m'+'meters.')\n",
    "scale = abs(H.max())+abs(H.min())     # Parameter for placing text\n",
    "under = H.min()                       # Parameter for placing text\n",
    "plt.text(0, under+scale/6,'RMSE=' f\"{error:.2E}\" 'm', fontsize=10, )\n",
    "plt.text(0, under+scale/10,'K=' f\"{K:.2E}\" 'm/s', fontsize=10, )\n",
    "plt.text(tend, under, 'End experiment', fontsize=10, rotation=270)\n",
    "\n",
    "print() # Suppresses gratuitous output"
   ]
  },
  {
   "cell_type": "markdown",
   "metadata": {},
   "source": [
    "#### Final questions\n",
    "The figure above summarizes the results of this experiment. Please add some comments here on:\n",
    "1. How reasonable are the porosity results compared to Wikipedia https://en.wikipedia.org/wiki/Porosity?\n",
    "\n",
    "\n",
    "2. How do K results compare https://en.wikipedia.org/wiki/Hydraulic_conductivity#Ranges_of_values_for_natural_materials?\n",
    "\n",
    "\n",
    "3. How accurate do you think the measurements are (differentiate) and where things may be improved?\n",
    "\n",
    "\n",
    "4. Anything particular about the sand you used or other observations you want to share?\n",
    "\n",
    "\n",
    "Save this Jupyter Notebook and **make a copy as pdf** before zipping the complete directory. The pdf serves easy checking of the main content. The other files (pictures, Notebook, csv, xlc) serve to check details in case of unclarities. Probably the easiest way to make a pdf is to go to the 'File' menu of Jupyter, then select 'Print Preview', then right-click on the print preview that opens up, and choose to 'Save to pdf'. There is also a 'Download as PDF via LaTeX' option, but this requires additional software installation. Make sure all filenames, including that of Notebook and pdf start with your student number.\n",
    "\n",
    "#### Thanks for doing this at home!"
   ]
  },
  {
   "cell_type": "code",
   "execution_count": null,
   "metadata": {},
   "outputs": [],
   "source": []
  }
 ],
 "metadata": {
  "kernelspec": {
   "display_name": "Python 3",
   "language": "python",
   "name": "python3"
  },
  "language_info": {
   "codemirror_mode": {
    "name": "ipython",
    "version": 3
   },
   "file_extension": ".py",
   "mimetype": "text/x-python",
   "name": "python",
   "nbconvert_exporter": "python",
   "pygments_lexer": "ipython3",
   "version": "3.7.1"
  }
 },
 "nbformat": 4,
 "nbformat_minor": 4
}
